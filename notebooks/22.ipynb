{
  "cells": [
    {
      "cell_type": "code",
      "execution_count": null,
      "metadata": {},
      "outputs": [],
      "source": [
        "#!/usr/bin/env python3"
      ]
    },
    {
      "cell_type": "markdown",
      "metadata": {},
      "source": [
        "# sudoku puzzle solver"
      ]
    },
    {
      "cell_type": "code",
      "execution_count": null,
      "metadata": {},
      "outputs": [],
      "source": [
        "from sys import stdout\n",
        "from random import random\n",
        "from copy import deepcopy\n",
        "from argparse import ArgumentParser"
      ]
    },
    {
      "cell_type": "code",
      "execution_count": null,
      "metadata": {},
      "outputs": [],
      "source": [
        "class Square():\n",
        "    def __init__(self):\n",
        "        self.n = -1\n",
        "        self.excluded = [False]*9\n",
        "    def is_known(self):\n",
        "        return self.n >= 0\n",
        "    def write(self, f):\n",
        "        f.write(str(self.n+1) if self.is_known() else ' ')\n",
        "    def how_many_excluded(self):\n",
        "        return sum([1 for x in self.excluded if x])\n",
        "    \n",
        "class Config():\n",
        "    def __init__(self):\n",
        "        self.square = [[Square() for i in range(0,9)] for j in range(0,9)]\n",
        "    def write(self, f):\n",
        "        for i in range(0,9):\n",
        "            for j in range(0,9):\n",
        "                self.square[i][j].write(f)\n",
        "                f.write('|' if j in (2,5) else ' ')\n",
        "            f.write('\\n')\n",
        "            if i in (2,5):\n",
        "                f.write('-----+-----+-----\\n')\n",
        "        f.write('\\n\\n')\n",
        "    def read(self, f):\n",
        "        for i in range(0,9):\n",
        "            a = f.readline().split()\n",
        "            for j in range(0,9):\n",
        "                n = int(a[j])\n",
        "                if n > 0:\n",
        "                    self.set_square(i,j,n-1)\n",
        "    def set_square(self, i, j, n):\n",
        "        self.square[i][j].n = n;\n",
        "        # exclude squares in same row, column\n",
        "        for k in range(0,9):\n",
        "            if k != j:\n",
        "                self.square[i][k].excluded[n] = True\n",
        "            if k != i:\n",
        "                self.square[k][j].excluded[n] = True\n",
        "        # exclude squares in same box\n",
        "        ni = 3*(i//3);\n",
        "        nj = 3*(j//3);\n",
        "        for ik in range(ni, ni+3):\n",
        "            for jk in range(nj, nj+3):\n",
        "                if ik != i or jk != j:\n",
        "                    self.square[ik][jk].excluded[n] = True\n",
        "    def infer(self):\n",
        "        set_any_square = True\n",
        "        while set_any_square:\n",
        "            set_any_square = False;\n",
        "            solved = True\n",
        "            for i in range(0,9):\n",
        "                for j in range(0,9):\n",
        "                    s = self.square[i][j]\n",
        "                    if s.is_known():\n",
        "                        continue;\n",
        "                    solved = False\n",
        "                    if s.how_many_excluded() == 9:\n",
        "                        return False, True\n",
        "                    elif s.how_many_excluded() == 8:\n",
        "                        for k in range(0,9):\n",
        "                            if not s.excluded[k]:\n",
        "                                self.set_square(i,j,k)\n",
        "                                set_any_square = True\n",
        "                                break\n",
        "            if solved:\n",
        "                return True, False\n",
        "        return False, False\n",
        "    def unknown_squares(self):\n",
        "        unk = list()\n",
        "        for i in range(0,9):\n",
        "            for j in range(0,9):\n",
        "                s = self.square[i][j]\n",
        "                if not s.is_known():\n",
        "                    unk.append((i,j,s.how_many_excluded()))\n",
        "        unk.sort(key = lambda i: i[2])\n",
        "        unk.reverse()\n",
        "        return [(t[0],t[1]) for t in unk]\n",
        "                \n",
        "def search(config):\n",
        "    # First, make all inferences possible from current\n",
        "    # configuration.  Determine if the puzzle is solved,\n",
        "    # or the current configuration leads to a contradiction\n",
        "    solved, contradiction = config.infer()\n",
        "    config.write(stdout);\n",
        "    if solved:\n",
        "        return config\n",
        "    if contradiction:\n",
        "        return None\n",
        "    # Neither solved, nor a contradiction - \n",
        "    # make a list of all unknown squares, with\n",
        "    # how many numbers are excluded for each\n",
        "    for i,j in config.unknown_squares():\n",
        "        for y in range(0,9):\n",
        "            if not config.square[i][j].excluded[y]:\n",
        "                # Try a particular guess for this square\n",
        "                config_save = deepcopy(config)\n",
        "                print(f'Guessing {i+1},{j+1} = {y+1}')\n",
        "                config.set_square(i,j,y);\n",
        "                answer = search(config)\n",
        "                if answer:\n",
        "                    # The guess worked\n",
        "                    print(f'Guess {i+1},{j+1} = {y+1} worked.')\n",
        "                    return answer\n",
        "                else:\n",
        "                    print(f'Guess {i+1},{j+1} = {y+1} didn\\'t work.')\n",
        "                    config = config_save\n",
        "                    config.square[i][j].excluded[y] = True\n",
        "    return None"
      ]
    },
    {
      "cell_type": "code",
      "execution_count": null,
      "metadata": {},
      "outputs": [],
      "source": [
        "desc='Puzzle format: 9 rows of 9 numbers - a 0 means a blank space.'\n",
        "ap = ArgumentParser(description=desc)\n",
        "ap.add_argument('puzzle', help='input file containing puzzle')\n",
        "args = ap.parse_args()"
      ]
    },
    {
      "cell_type": "code",
      "execution_count": null,
      "metadata": {},
      "outputs": [],
      "source": [
        "c = Config()\n",
        "with open(args.puzzle) as f:\n",
        "  c.read(f)"
      ]
    },
    {
      "cell_type": "code",
      "execution_count": null,
      "metadata": {},
      "outputs": [],
      "source": [
        "print('Puzzle:')\n",
        "c.write(stdout)\n",
        "answer = search(c)\n",
        "if answer:\n",
        "    print('Answer:')\n",
        "    answer.write(stdout)\n",
        "else:\n",
        "    print('Couldn\\'t find answer.')"
      ]
    }
  ],
  "metadata": {
    "kernelspec": {
      "display_name": "Python 3 (3.9.6)",
      "language": "python",
      "name": "python3-3.9.6"
    },
    "language_info": {
      "codemirror_mode": {
        "name": "ipython",
        "version": 3
      },
      "file_extension": ".py",
      "mimetype": "text/x-python",
      "name": "python",
      "nbconvert_exporter": "python",
      "pygments_lexer": "ipython3",
      "version": "3.9.6"
    }
  },
  "nbformat": 4,
  "nbformat_minor": 2
}
