{
  "cells": [
    {
      "cell_type": "code",
      "execution_count": null,
      "metadata": {},
      "outputs": [],
      "source": [
        "#!/usr/bin/env python3"
      ]
    },
    {
      "cell_type": "markdown",
      "metadata": {},
      "source": [
        "# pandas (Python Data Analysis Library) - part 3"
      ]
    },
    {
      "cell_type": "code",
      "execution_count": null,
      "metadata": {},
      "outputs": [],
      "source": [
        "import pandas\n",
        "from random import random"
      ]
    },
    {
      "cell_type": "code",
      "execution_count": null,
      "metadata": {},
      "outputs": [],
      "source": [
        "a1 = pandas.read_csv('in.a1.csv', index_col='id')\n",
        "a2 = pandas.read_csv('in.a2.csv', index_col='id')\n",
        "a3 = pandas.read_csv('in.a3.csv', index_col='id')"
      ]
    },
    {
      "cell_type": "code",
      "execution_count": null,
      "metadata": {},
      "outputs": [],
      "source": [
        "print('a1:')\n",
        "print(a1)\n",
        "print('\\n')\n",
        "print('a2:')\n",
        "print(a2)\n",
        "print('\\n')\n",
        "print('a3:')\n",
        "print(a3)\n",
        "print('\\n')"
      ]
    },
    {
      "cell_type": "code",
      "execution_count": null,
      "metadata": {},
      "outputs": [],
      "source": [
        "a1_a2 = a1.join(a2, how='outer')\n",
        "print('a1 join a2:')\n",
        "print(a1_a2)\n",
        "print('\\n')"
      ]
    },
    {
      "cell_type": "code",
      "execution_count": null,
      "metadata": {},
      "outputs": [],
      "source": [
        "a2_a3 = a2.join(a3, lsuffix='_a', rsuffix='_b', how='outer')\n",
        "print('a2 join a3:')\n",
        "print(a2_a3)\n",
        "print('\\n')"
      ]
    },
    {
      "cell_type": "code",
      "execution_count": null,
      "metadata": {},
      "outputs": [],
      "source": [
        "a1_a2_a3 = a1.join(a2, how='outer').join(a3, lsuffix='_a', rsuffix='_b', how='outer')\n",
        "print('a1 join a2 join a3 - outer')\n",
        "print(a1_a2_a3)\n",
        "print('\\n')"
      ]
    },
    {
      "cell_type": "code",
      "execution_count": null,
      "metadata": {},
      "outputs": [],
      "source": [
        "print('test for NaN:')\n",
        "print(a1_a2_a3.notnull())\n",
        "print('\\n')"
      ]
    },
    {
      "cell_type": "code",
      "execution_count": null,
      "metadata": {},
      "outputs": [],
      "source": [
        "print('all: True if all rows in a column are True (for axis=0)')\n",
        "print('     or all columns in a row are True (for axis=1)')\n",
        "print(a1_a2_a3.notnull().all(axis=1))\n",
        "print('\\n')"
      ]
    },
    {
      "cell_type": "code",
      "execution_count": null,
      "metadata": {},
      "outputs": [],
      "source": [
        "print('get only rows with no NaNs')\n",
        "print(a1_a2_a3[a1_a2_a3.notnull().all(axis=1)])\n",
        "print('\\n')"
      ]
    },
    {
      "cell_type": "code",
      "execution_count": null,
      "metadata": {},
      "outputs": [],
      "source": [
        "print('but this is much easier!')\n",
        "a1_a2_a3 = a1.join(a2, how='inner').join(a3, lsuffix='_a', rsuffix='_b', how='inner')\n",
        "print('a1 join a2 join a3 - inner')\n",
        "print(a1_a2_a3)\n",
        "print('\\n')"
      ]
    }
  ],
  "metadata": {
    "kernelspec": {
      "display_name": "Python 3 (3.9.6)",
      "language": "python",
      "name": "python3-3.9.6"
    },
    "language_info": {
      "codemirror_mode": {
        "name": "ipython",
        "version": 3
      },
      "file_extension": ".py",
      "mimetype": "text/x-python",
      "name": "python",
      "nbconvert_exporter": "python",
      "pygments_lexer": "ipython3",
      "version": "3.9.6"
    }
  },
  "nbformat": 4,
  "nbformat_minor": 2
}
