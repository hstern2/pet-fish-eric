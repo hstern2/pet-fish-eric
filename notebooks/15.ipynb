{
  "cells": [
    {
      "cell_type": "code",
      "execution_count": null,
      "metadata": {},
      "outputs": [],
      "source": [
        "#!/usr/bin/env python3"
      ]
    },
    {
      "cell_type": "markdown",
      "metadata": {},
      "source": [
        "# functions"
      ]
    },
    {
      "cell_type": "code",
      "execution_count": null,
      "metadata": {},
      "outputs": [],
      "source": [
        "def a(): \n",
        "  print('This is a function')\n",
        "print('No longer part of the function.')"
      ]
    },
    {
      "cell_type": "code",
      "execution_count": null,
      "metadata": {},
      "outputs": [],
      "source": [
        "a()\n",
        "a()\n",
        "a()"
      ]
    },
    {
      "cell_type": "code",
      "execution_count": null,
      "metadata": {},
      "outputs": [],
      "source": [
        "def b(x,y):\n",
        "  print('This is a function with two arguments x: ' + str(x)+ ' and y: ' + str(y))\n",
        " \n",
        "b(23,46)\n",
        "b(['hi','there'],23)"
      ]
    },
    {
      "cell_type": "code",
      "execution_count": null,
      "metadata": {},
      "outputs": [],
      "source": [
        "b(x='hi', y='there') # named arguments\n",
        "b(y='there', x='hi') # named arguments"
      ]
    },
    {
      "cell_type": "markdown",
      "metadata": {},
      "source": [
        "# function with a return value"
      ]
    },
    {
      "cell_type": "code",
      "execution_count": null,
      "metadata": {},
      "outputs": [],
      "source": [
        "def add(x,y):\n",
        "    return x+y\n",
        "#\n",
        "print(add(1,2))\n",
        "b(add(1,2),add('hi','there'))\n",
        "add(3)"
      ]
    },
    {
      "cell_type": "markdown",
      "metadata": {},
      "source": [
        "# default arguments"
      ]
    },
    {
      "cell_type": "code",
      "execution_count": null,
      "metadata": {},
      "outputs": [],
      "source": [
        "def c(x='defaultX', y='defaultY'):\n",
        "    print('x = ' + str(x) + ' y = ' + str(y))"
      ]
    },
    {
      "cell_type": "code",
      "execution_count": null,
      "metadata": {},
      "outputs": [],
      "source": [
        "c(2,3)\n",
        "c(4)\n",
        "c(y='hi')\n",
        "c()\n",
        "c(3,2,1)"
      ]
    },
    {
      "cell_type": "markdown",
      "metadata": {},
      "source": [
        "# recursion"
      ]
    },
    {
      "cell_type": "code",
      "execution_count": null,
      "metadata": {},
      "outputs": [],
      "source": [
        "def factorial(n):\n",
        "  if n > 1:\n",
        "    return n*factorial(n-1)\n",
        "  else:\n",
        "    return 1\n",
        "print(factorial(10))"
      ]
    }
  ],
  "metadata": {
    "kernelspec": {
      "display_name": "Python 3 (3.9.6)",
      "language": "python",
      "name": "python3-3.9.6"
    },
    "language_info": {
      "codemirror_mode": {
        "name": "ipython",
        "version": 3
      },
      "file_extension": ".py",
      "mimetype": "text/x-python",
      "name": "python",
      "nbconvert_exporter": "python",
      "pygments_lexer": "ipython3",
      "version": "3.9.6"
    }
  },
  "nbformat": 4,
  "nbformat_minor": 2
}
