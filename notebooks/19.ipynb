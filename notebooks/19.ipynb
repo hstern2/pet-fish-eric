{
  "cells": [
    {
      "cell_type": "code",
      "execution_count": null,
      "metadata": {},
      "outputs": [],
      "source": [
        "#!/usr/bin/env python3"
      ]
    },
    {
      "cell_type": "markdown",
      "metadata": {},
      "source": [
        "# pandas (Python Data Analysis Library) - part 1"
      ]
    },
    {
      "cell_type": "code",
      "execution_count": null,
      "metadata": {},
      "outputs": [],
      "source": [
        "import pandas\n",
        "from random import random"
      ]
    },
    {
      "cell_type": "code",
      "execution_count": null,
      "metadata": {},
      "outputs": [],
      "source": [
        "d = [random() for i in range(5)]\n",
        "print(d)\n",
        "labels = ['a','b','c','d','e']"
      ]
    },
    {
      "cell_type": "code",
      "execution_count": null,
      "metadata": {},
      "outputs": [],
      "source": [
        "s1 = pandas.Series(data=d, index=labels)\n",
        "print('whole series:')\n",
        "print(s1)\n",
        "print('\\n')"
      ]
    },
    {
      "cell_type": "code",
      "execution_count": null,
      "metadata": {},
      "outputs": [],
      "source": [
        "print('item by label:')\n",
        "print(s1['a'])\n",
        "print(s1[2])\n",
        "print('\\n')"
      ]
    },
    {
      "cell_type": "code",
      "execution_count": null,
      "metadata": {},
      "outputs": [],
      "source": [
        "print('slice:')\n",
        "print(s1[['c','a','e']])\n",
        "print('\\n')"
      ]
    },
    {
      "cell_type": "code",
      "execution_count": null,
      "metadata": {},
      "outputs": [],
      "source": [
        "print('(1) selection from array of booleans:')\n",
        "print(s1[ [True,False,False,True,True] ])\n",
        "print('\\n')"
      ]
    },
    {
      "cell_type": "code",
      "execution_count": null,
      "metadata": {},
      "outputs": [],
      "source": [
        "print('(2) boolean array, given a condition:')\n",
        "print(s1 > 0.2)\n",
        "print('\\n')"
      ]
    },
    {
      "cell_type": "code",
      "execution_count": null,
      "metadata": {},
      "outputs": [],
      "source": [
        "print('combining (1) and (2):')\n",
        "print(s1[ (0.2 < s1) & (s1 < 0.8) ])\n",
        "print('\\n')"
      ]
    },
    {
      "cell_type": "code",
      "execution_count": null,
      "metadata": {},
      "outputs": [],
      "source": [
        "print('some statistics... (numpy ndarray functions)')\n",
        "print(f'count of non-null values: {s1.count()}')\n",
        "print(f'sum: {s1.sum()}')\n",
        "print(f'mean: {s1.mean()}')\n",
        "print(f'median: {s1.median()}')\n",
        "print(f'variance: {s1.var()}')\n",
        "print(f'mean absolute deviation: {s1.mad()}')\n",
        "print(f'standard deviation: {s1.std()}')\n",
        "print(f'standard error of mean: {s1.sem()}')\n",
        "print(f'skew: {s1.skew()}')\n",
        "print(f'kurtosis: {s1.kurt()}')\n",
        "print(f'max: {s1.max()}')\n",
        "print(f'min: {s1.min()}')\n",
        "print('\\n')"
      ]
    },
    {
      "cell_type": "code",
      "execution_count": null,
      "metadata": {},
      "outputs": [],
      "source": [
        "s2 = pandas.Series(data={'a':1.0, 'b':2.0, 'c':3.0, 'd':4.0})\n",
        "print('series from dictionary:')\n",
        "print(s2)\n",
        "print('\\n')"
      ]
    },
    {
      "cell_type": "code",
      "execution_count": null,
      "metadata": {},
      "outputs": [],
      "source": [
        "print('vector sum (with NaN for missing value):')\n",
        "print(s1+s2)\n",
        "print('\\n')"
      ]
    },
    {
      "cell_type": "code",
      "execution_count": null,
      "metadata": {},
      "outputs": [],
      "source": [
        "print('test for NaNs...')\n",
        "sum = s1+s2\n",
        "print(sum.notnull())\n",
        "print('\\n')"
      ]
    },
    {
      "cell_type": "code",
      "execution_count": null,
      "metadata": {},
      "outputs": [],
      "source": [
        "print('filter out NaNs:')\n",
        "print(sum[sum.notnull()])\n",
        "print('\\n')"
      ]
    }
  ],
  "metadata": {
    "kernelspec": {
      "display_name": "Python 3 (3.9.6)",
      "language": "python",
      "name": "python3-3.9.6"
    },
    "language_info": {
      "codemirror_mode": {
        "name": "ipython",
        "version": 3
      },
      "file_extension": ".py",
      "mimetype": "text/x-python",
      "name": "python",
      "nbconvert_exporter": "python",
      "pygments_lexer": "ipython3",
      "version": "3.9.6"
    }
  },
  "nbformat": 4,
  "nbformat_minor": 2
}
