{
  "cells": [
    {
      "cell_type": "code",
      "execution_count": null,
      "metadata": {},
      "outputs": [],
      "source": [
        "#!/usr/bin/env python3"
      ]
    },
    {
      "cell_type": "markdown",
      "metadata": {},
      "source": [
        "# command-line arguments"
      ]
    },
    {
      "cell_type": "code",
      "execution_count": null,
      "metadata": {},
      "outputs": [],
      "source": [
        " from argparse import ArgumentParser\n",
        "  \n",
        " desc = '''Here is a description of my program.\n",
        " This might be long so I am putting this in a multiline string.\n",
        " Three quote marks are used for that....'''"
      ]
    },
    {
      "cell_type": "markdown",
      "metadata": {},
      "source": [
        "# default value for number of iterations"
      ]
    },
    {
      "cell_type": "code",
      "execution_count": null,
      "metadata": {},
      "outputs": [],
      "source": [
        " DEFAULT_N = 20 # convention - put constants in CAPS\n",
        " \n",
        " p = ArgumentParser(description=desc)"
      ]
    },
    {
      "cell_type": "markdown",
      "metadata": {},
      "source": [
        "# an optional integer command line argument"
      ]
    },
    {
      "cell_type": "code",
      "execution_count": null,
      "metadata": {},
      "outputs": [],
      "source": [
        " p.add_argument('-n', type=int, \n",
        "                help=f'number of iterations (default: {DEFAULT_N})', \n",
        "                default=DEFAULT_N)"
      ]
    },
    {
      "cell_type": "markdown",
      "metadata": {},
      "source": [
        "# a required string argument (one or more)"
      ]
    },
    {
      "cell_type": "code",
      "execution_count": null,
      "metadata": {},
      "outputs": [],
      "source": [
        " p.add_argument('file', nargs='+', help='input files') \n",
        " \n",
        " args = p.parse_args() # namespace of command line arguments\n",
        " \n",
        " print('number of iterations: {:d}'.format(args.n))\n",
        " for f in args.file:\n",
        "   print('I am going to process input file: ' + f)"
      ]
    }
  ],
  "metadata": {
    "kernelspec": {
      "display_name": "Python 3 (3.9.6)",
      "language": "python",
      "name": "python3-3.9.6"
    },
    "language_info": {
      "codemirror_mode": {
        "name": "ipython",
        "version": 3
      },
      "file_extension": ".py",
      "mimetype": "text/x-python",
      "name": "python",
      "nbconvert_exporter": "python",
      "pygments_lexer": "ipython3",
      "version": "3.9.6"
    }
  },
  "nbformat": 4,
  "nbformat_minor": 2
}
