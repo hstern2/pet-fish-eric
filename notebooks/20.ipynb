{
  "cells": [
    {
      "cell_type": "code",
      "execution_count": null,
      "metadata": {},
      "outputs": [],
      "source": [
        "#!/usr/bin/env python3"
      ]
    },
    {
      "cell_type": "markdown",
      "metadata": {},
      "source": [
        "# pandas (Python Data Analysis Library) - part 2"
      ]
    },
    {
      "cell_type": "code",
      "execution_count": null,
      "metadata": {},
      "outputs": [],
      "source": [
        "import pandas\n",
        "from random import random"
      ]
    },
    {
      "cell_type": "code",
      "execution_count": null,
      "metadata": {},
      "outputs": [],
      "source": [
        "s1 = pandas.Series(data=[random() for i in range(5)], index=['a','b','c','d','e'])\n",
        "s2 = pandas.Series(data={'a':1.0, 'b':2.0, 'c':3.0, 'd':4.0})"
      ]
    },
    {
      "cell_type": "code",
      "execution_count": null,
      "metadata": {},
      "outputs": [],
      "source": [
        "df = pandas.DataFrame({'col1': s1, 'col2': s2})\n",
        "print('data frame:')\n",
        "print(df)\n",
        "print('\\n')"
      ]
    },
    {
      "cell_type": "code",
      "execution_count": null,
      "metadata": {},
      "outputs": [],
      "source": [
        "df = pandas.read_csv('in4.csv', index_col='id')\n",
        "print('data frame from csv:')\n",
        "print(df)\n",
        "print('\\n')"
      ]
    },
    {
      "cell_type": "code",
      "execution_count": null,
      "metadata": {},
      "outputs": [],
      "source": [
        "print('a column:')\n",
        "print(df['value'])\n",
        "print('\\n')"
      ]
    },
    {
      "cell_type": "code",
      "execution_count": null,
      "metadata": {},
      "outputs": [],
      "source": [
        "print('an element:')\n",
        "print(df['value']['DEF2'])\n",
        "print(df.loc['DEF2']['value'])"
      ]
    },
    {
      "cell_type": "code",
      "execution_count": null,
      "metadata": {},
      "outputs": [],
      "source": [
        "print('several columns:')\n",
        "print(df[['sampleName','sampleType','value']])\n",
        "print('\\n')"
      ]
    },
    {
      "cell_type": "code",
      "execution_count": null,
      "metadata": {},
      "outputs": [],
      "source": [
        "print('a row:')\n",
        "print(df.loc['DEF2'])\n",
        "print('\\n')"
      ]
    },
    {
      "cell_type": "code",
      "execution_count": null,
      "metadata": {},
      "outputs": [],
      "source": [
        "print('several rows:')\n",
        "print(df.loc[['ABC1','GHI3','JKL4']])\n",
        "print('\\n')"
      ]
    },
    {
      "cell_type": "code",
      "execution_count": null,
      "metadata": {},
      "outputs": [],
      "source": [
        "print('(1) row selection from array of booleans:')\n",
        "print(df[ [False,False,True,True] ])\n",
        "print('\\n')"
      ]
    },
    {
      "cell_type": "code",
      "execution_count": null,
      "metadata": {},
      "outputs": [],
      "source": [
        "print('(2) boolean array, given a condition:')\n",
        "print(df['value'] > 0.5)\n",
        "print('\\n')"
      ]
    },
    {
      "cell_type": "code",
      "execution_count": null,
      "metadata": {},
      "outputs": [],
      "source": [
        "print('combining (1) and (2):')\n",
        "print(df[ df['value'] > 0.5 ])\n",
        "print('\\n')"
      ]
    },
    {
      "cell_type": "code",
      "execution_count": null,
      "metadata": {},
      "outputs": [],
      "source": [
        "print('a query for particular sampleNames...')\n",
        "print(df[ ['Sh2' in n for n in df['sampleName']] ])\n",
        "print('\\n')"
      ]
    },
    {
      "cell_type": "code",
      "execution_count": null,
      "metadata": {},
      "outputs": [],
      "source": [
        "d1 = [[random() for i in range(4)] for j in range(4)]\n",
        "rlabel = ['a','b','c','d']\n",
        "clabel = ['A','B','C','D']\n",
        "df1 = pandas.DataFrame(data=d1, index=rlabel, columns=clabel)"
      ]
    },
    {
      "cell_type": "code",
      "execution_count": null,
      "metadata": {},
      "outputs": [],
      "source": [
        "d2 = [[random() for i in range(4)] for j in range(4)]\n",
        "rlabel = ['a','b','c','d']\n",
        "clabel = ['A','B','C','D']\n",
        "df2 = pandas.DataFrame(data=d2, index=rlabel, columns=clabel)"
      ]
    },
    {
      "cell_type": "code",
      "execution_count": null,
      "metadata": {},
      "outputs": [],
      "source": [
        "print('numerical data:')\n",
        "print(df1)\n",
        "print('\\n')\n",
        "print(df2)\n",
        "print('\\n')"
      ]
    },
    {
      "cell_type": "code",
      "execution_count": null,
      "metadata": {},
      "outputs": [],
      "source": [
        "print('vector sum:')\n",
        "print(df1+df2)\n",
        "print('\\n')"
      ]
    },
    {
      "cell_type": "code",
      "execution_count": null,
      "metadata": {},
      "outputs": [],
      "source": [
        "print('comparison:')\n",
        "print(df1 < df2)\n",
        "print('\\n')"
      ]
    },
    {
      "cell_type": "code",
      "execution_count": null,
      "metadata": {},
      "outputs": [],
      "source": [
        "print('describe:')\n",
        "print(df1.describe())"
      ]
    }
  ],
  "metadata": {
    "kernelspec": {
      "display_name": "Python 3 (3.9.6)",
      "language": "python",
      "name": "python3-3.9.6"
    },
    "language_info": {
      "codemirror_mode": {
        "name": "ipython",
        "version": 3
      },
      "file_extension": ".py",
      "mimetype": "text/x-python",
      "name": "python",
      "nbconvert_exporter": "python",
      "pygments_lexer": "ipython3",
      "version": "3.9.6"
    }
  },
  "nbformat": 4,
  "nbformat_minor": 2
}
