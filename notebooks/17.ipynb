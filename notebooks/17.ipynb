{
  "cells": [
    {
      "cell_type": "code",
      "execution_count": null,
      "metadata": {},
      "outputs": [],
      "source": [
        "#!/usr/bin/env python3"
      ]
    },
    {
      "cell_type": "markdown",
      "metadata": {},
      "source": [
        "# classes"
      ]
    },
    {
      "cell_type": "code",
      "execution_count": null,
      "metadata": {},
      "outputs": [],
      "source": [
        "class A:\n",
        "    def __init__(self, d):\n",
        "        self.data = d\n",
        "    def show_data(self):\n",
        "        print('here is my data: ' + self.data)\n",
        " \n",
        "a = A('hi there') # created an object of class A with data 'hi there'\n",
        "a.show_data()"
      ]
    },
    {
      "cell_type": "code",
      "execution_count": null,
      "metadata": {},
      "outputs": [],
      "source": [
        "a2 = A('oh') # another object of class A with data 'oh'\n",
        "a2.show_data()\n",
        "a2.data = 'something else'\n",
        "a2.show_data()"
      ]
    },
    {
      "cell_type": "markdown",
      "metadata": {},
      "source": [
        "# B is a subclass that inherits from A"
      ]
    },
    {
      "cell_type": "code",
      "execution_count": null,
      "metadata": {},
      "outputs": [],
      "source": [
        "class B(A):\n",
        "    def __init__(self, d, d2):\n",
        "        A.__init__(self, d)\n",
        "        self.data2 = d2\n",
        "    def show_both(self):\n",
        "        print('data: ' + self.data + ', data2: ' + self.data2)\n",
        " \n",
        "b = B('HI', 'THERE')\n",
        "b.show_data()\n",
        "b.show_both()"
      ]
    }
  ],
  "metadata": {
    "kernelspec": {
      "display_name": "Python 3 (3.9.6)",
      "language": "python",
      "name": "python3-3.9.6"
    },
    "language_info": {
      "codemirror_mode": {
        "name": "ipython",
        "version": 3
      },
      "file_extension": ".py",
      "mimetype": "text/x-python",
      "name": "python",
      "nbconvert_exporter": "python",
      "pygments_lexer": "ipython3",
      "version": "3.9.6"
    }
  },
  "nbformat": 4,
  "nbformat_minor": 2
}
