{
  "cells": [
    {
      "cell_type": "code",
      "execution_count": null,
      "metadata": {},
      "outputs": [],
      "source": [
        "#!/usr/bin/env python3"
      ]
    },
    {
      "cell_type": "markdown",
      "metadata": {},
      "source": [
        "# exceptions"
      ]
    },
    {
      "cell_type": "code",
      "execution_count": null,
      "metadata": {},
      "outputs": [],
      "source": [
        "a = ['hi','there','everyone']\n",
        "##print(a[3]) # produces an IndexError"
      ]
    },
    {
      "cell_type": "code",
      "execution_count": null,
      "metadata": {},
      "outputs": [],
      "source": [
        "try:\n",
        "    print(a[3])\n",
        "    print('that went OK.')\n",
        "except IndexError:\n",
        "    print('Nice try.  list element does not exist.')\n",
        "print('still chugging along.')"
      ]
    },
    {
      "cell_type": "code",
      "execution_count": null,
      "metadata": {},
      "outputs": [],
      "source": [
        "class MyVeryBadError(Exception): pass"
      ]
    },
    {
      "cell_type": "code",
      "execution_count": null,
      "metadata": {},
      "outputs": [],
      "source": [
        "def do_something_bad(x):\n",
        "   b = {'key':'val'}\n",
        "##  print(a[3]) # produces an IndexError\n",
        "##  print(b['lala']) # produces a KeyError\n",
        "##  print(10.0/0.0) # produces ZeroDivisionError\n",
        "##  print(10.0**(10.0**100.0)) # what is this number called?\n",
        "   if (x > 10):\n",
        "      raise MyVeryBadError\n",
        "   print('x is OK.')"
      ]
    },
    {
      "cell_type": "markdown",
      "metadata": {},
      "source": [
        "do_something_bad(23)"
      ]
    },
    {
      "cell_type": "code",
      "execution_count": null,
      "metadata": {},
      "outputs": [],
      "source": [
        "try:\n",
        "    do_something_bad(23)\n",
        "except IndexError:\n",
        "    print('sorry, that list element does not exist')\n",
        "except KeyError:\n",
        "    print('that key does not exist')\n",
        "except ZeroDivisionError:\n",
        "    print('you are trying to divide by zero.')\n",
        "except OverflowError:\n",
        "    print('number is too big.')\n",
        "except MyVeryBadError:\n",
        "    print('oh NOOOOOO!!!')\n",
        " \n",
        "print('...but still chugging along')"
      ]
    }
  ],
  "metadata": {
    "kernelspec": {
      "display_name": "Python 3 (3.9.6)",
      "language": "python",
      "name": "python3-3.9.6"
    },
    "language_info": {
      "codemirror_mode": {
        "name": "ipython",
        "version": 3
      },
      "file_extension": ".py",
      "mimetype": "text/x-python",
      "name": "python",
      "nbconvert_exporter": "python",
      "pygments_lexer": "ipython3",
      "version": "3.9.6"
    }
  },
  "nbformat": 4,
  "nbformat_minor": 2
}
