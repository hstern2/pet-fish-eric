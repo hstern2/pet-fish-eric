{
  "cells": [
    {
      "cell_type": "code",
      "execution_count": null,
      "metadata": {},
      "outputs": [],
      "source": [
        "#!/usr/bin/env python3"
      ]
    },
    {
      "cell_type": "markdown",
      "metadata": {},
      "source": [
        "# regular expressions"
      ]
    },
    {
      "cell_type": "code",
      "execution_count": null,
      "metadata": {},
      "outputs": [],
      "source": [
        " from re import search, sub"
      ]
    },
    {
      "cell_type": "markdown",
      "metadata": {},
      "source": [
        "# simple search"
      ]
    },
    {
      "cell_type": "code",
      "execution_count": null,
      "metadata": {},
      "outputs": [],
      "source": [
        "pattern = r'hi'  # good to use raw strings for regular expressions\n",
        "string = 'osidgoin hi aoidnfoisn'\n",
        "print('found' if search(pattern,string) else 'not found')"
      ]
    },
    {
      "cell_type": "markdown",
      "metadata": {},
      "source": [
        "# \\d means digit (0 through 9)<br>\n",
        "# [a-z]+ means one or more lowercase letters"
      ]
    },
    {
      "cell_type": "code",
      "execution_count": null,
      "metadata": {},
      "outputs": [],
      "source": [
        "pattern = r'\\d [a-z]+'\n",
        "string = '9 asdoin'\n",
        "print('found' if search(pattern,string) else 'not found')"
      ]
    },
    {
      "cell_type": "markdown",
      "metadata": {},
      "source": [
        "# \\w means \"word character\" (A-Z, a-z, 0-9, _)<br>\n",
        "# \\s means \"whitespace\"  (space, tab, newline)"
      ]
    },
    {
      "cell_type": "code",
      "execution_count": null,
      "metadata": {},
      "outputs": [],
      "source": [
        "pattern = r'\\s\\w\\w\\w\\s'\n",
        "string = ' a8b\\t'\n",
        "print('found' if search(pattern,string) else 'not found')"
      ]
    },
    {
      "cell_type": "markdown",
      "metadata": {},
      "source": [
        "# group 1: one of the four letters A,C,G,T, one or more times<br>\n",
        "# group 2: a lower case letter, one or more times, <br>\n",
        "# followed by (one or more whitespace characters), followed by one digit"
      ]
    },
    {
      "cell_type": "code",
      "execution_count": null,
      "metadata": {},
      "outputs": [],
      "source": [
        "pattern = r'([ACGT]+) ([a-z]+\\s+\\d)'\n",
        "string = 'hello ACAGCATACGCA there 4 hi_'\n",
        "s = search(pattern,string)\n",
        " \n",
        "if s: # if the pattern matches\n",
        "   print('DNA sequence: ' + s.group(1))\n",
        "   print('tag: ' + s.group(2))\n",
        "#\n",
        "replacement = 'XXXX'\n",
        "print(sub(pattern, replacement, string))"
      ]
    }
  ],
  "metadata": {
    "kernelspec": {
      "display_name": "Python 3 (3.9.6)",
      "language": "python",
      "name": "python3-3.9.6"
    },
    "language_info": {
      "codemirror_mode": {
        "name": "ipython",
        "version": 3
      },
      "file_extension": ".py",
      "mimetype": "text/x-python",
      "name": "python",
      "nbconvert_exporter": "python",
      "pygments_lexer": "ipython3",
      "version": "3.9.6"
    }
  },
  "nbformat": 4,
  "nbformat_minor": 2
}
